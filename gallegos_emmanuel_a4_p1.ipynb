{
 "cells": [
  {
   "cell_type": "markdown",
   "metadata": {},
   "source": [
    "# Part 3: Single-View Geometry\n",
    "\n",
    "## Usage\n",
    "This code snippet provides an overall code structure and some interactive plot interfaces for the *Single-View Geometry* section of Assignment 3. In [main function](#Main-function), we outline the required functionalities step by step. Some of the functions which involves interactive plots are already provided, but [the rest](#Your-implementation) are left for you to implement.\n",
    "\n",
    "## Package installation\n",
    "- In this code, we use `tkinter` package. Installation instruction can be found [here](https://anaconda.org/anaconda/tk)."
   ]
  },
  {
   "cell_type": "markdown",
   "metadata": {},
   "source": [
    "# Common imports"
   ]
  },
  {
   "cell_type": "code",
   "execution_count": 1,
   "metadata": {},
   "outputs": [],
   "source": [
    "%matplotlib tk\n",
    "import matplotlib.pyplot as plt\n",
    "import numpy as np\n",
    "import math\n",
    "from PIL import Image"
   ]
  },
  {
   "cell_type": "markdown",
   "metadata": {},
   "source": [
    "# Provided functions"
   ]
  },
  {
   "cell_type": "code",
   "execution_count": 2,
   "metadata": {},
   "outputs": [],
   "source": [
    "def get_input_lines(im, min_lines=3):\n",
    "    \"\"\"\n",
    "    Allows user to input line segments; computes centers and directions.\n",
    "    Inputs:\n",
    "        im: np.ndarray of shape (height, width, 3)\n",
    "        min_lines: minimum number of lines required\n",
    "    Returns:\n",
    "        n: number of lines from input\n",
    "        lines: np.ndarray of shape (n, 3)\n",
    "            where each row denotes the parameters of the line equation\n",
    "        centers: np.ndarray of shape (n, 3)\n",
    "            where each row denotes the homogeneous coordinates of the centers\n",
    "        lengths: np.ndarray of shape (n)\n",
    "            where each row denotes the length of the line segment\n",
    "        angles: np.ndarray of shape(n)\n",
    "            where each row denotes the angle the line makes with the x-axis in radians\n",
    "    \"\"\"\n",
    "    n = 0\n",
    "    lines = []\n",
    "    centers = []\n",
    "    lengths = []\n",
    "    angles = []\n",
    "\n",
    "    np.set_printoptions(suppress=True)\n",
    "    \n",
    "    plt.figure()\n",
    "    plt.imshow(im)\n",
    "    plt.show()\n",
    "    print('Set at least %d lines to compute vanishing point' % min_lines)\n",
    "    while True:\n",
    "        print('Click the two endpoints, use the right key to undo, and use the middle key to stop input')\n",
    "        clicked = plt.ginput(2, timeout=0, show_clicks=True)\n",
    "        if not clicked or len(clicked) < 2:\n",
    "            if n < min_lines:\n",
    "                print('Need at least %d lines, you have %d now' % (min_lines, n))\n",
    "                continue\n",
    "            else:\n",
    "                # Stop getting lines if number of lines is enough\n",
    "                break\n",
    "\n",
    "        # Unpack user inputs and save as homogeneous coordinates\n",
    "        pt1 = np.array([clicked[0][0], clicked[0][1], 1])\n",
    "        pt2 = np.array([clicked[1][0], clicked[1][1], 1])\n",
    "        # Get line equation using cross product\n",
    "        # Line equation: line[0] * x + line[1] * y + line[2] = 0\n",
    "        line = np.cross(pt1, pt2)\n",
    "        lines.append(line)\n",
    "        # Get center coordinate of the line segment\n",
    "        center = (pt1 + pt2) / 2\n",
    "        centers.append(center)\n",
    "        # Get length of the line segment\n",
    "        length = np.linalg.norm(pt1[:2] - pt2[:2])\n",
    "        lengths.append(length)\n",
    "        # Get the angle of the segment (in radians)\n",
    "        centered_p2 = pt2 - pt1\n",
    "        angle = np.arctan2(centered_p2[1],centered_p2[0])%(2*math.pi)\n",
    "        angles.append(angle)\n",
    "        \n",
    "        # Plot line segment\n",
    "        plt.plot([pt1[0], pt2[0]], [pt1[1], pt2[1]], color='b')\n",
    "        \n",
    "        print(n)\n",
    "        print(np.array2string(np.array(lines), separator=', '))\n",
    "        print(np.array2string(np.array(centers), separator=', '))\n",
    "        print(np.array2string(np.array(lengths), separator=', '))\n",
    "        print(np.array2string(np.array(angles), separator=', '))\n",
    "        print(\"~~~~~~~~~~~~~~~~~~~~~~~~~~~~~~~~~~~~~~~~~~~~~~~~~~~~~~~~~~~~~~~~\")\n",
    "\n",
    "        n += 1\n",
    "        \n",
    "    return n, np.array(lines), np.array(centers), np.array(lengths), np.array(angles)"
   ]
  },
  {
   "cell_type": "code",
   "execution_count": 71,
   "metadata": {},
   "outputs": [],
   "source": [
    "def plot_lines_and_vp(im, lines, vp):\n",
    "    \"\"\"\n",
    "    Plots user-input lines and the calculated vanishing point.\n",
    "    Inputs:\n",
    "        im: np.ndarray of shape (height, width, 3)\n",
    "        lines: np.ndarray of shape (n,3)\n",
    "            where each row denotes the parameters of the line equation\n",
    "        vp: np.ndarray of shape (3, )\n",
    "    \"\"\"\n",
    "    bx1 = min(1, vp[0] / vp[2]) - 10\n",
    "    bx2 = max(im.shape[1], vp[0] / vp[2]) + 10\n",
    "    by1 = min(1, vp[1] / vp[2]) - 10\n",
    "    by2 = max(im.shape[0], vp[1] / vp[2]) + 10\n",
    "\n",
    "    plt.figure()\n",
    "    plt.imshow(im)\n",
    "    for i in range(lines.shape[0]):\n",
    "        if lines[i, 0] < lines[i, 1]:\n",
    "            pt1 = np.cross(np.array([1, 0, -bx1]), lines[i])\n",
    "            pt2 = np.cross(np.array([1, 0, -bx2]), lines[i])\n",
    "        else:\n",
    "            pt1 = np.cross(np.array([0, 1, -by1]), lines[i])\n",
    "            pt2 = np.cross(np.array([0, 1, -by2]), lines[i])\n",
    "        pt1 = pt1 / pt1[2]\n",
    "        pt2 = pt2 / pt2[2]\n",
    "        plt.plot([pt1[0], pt2[0]], [pt1[1], pt2[1]], 'g')\n",
    "    plt.plot(vp[0] / vp[2], vp[1] / vp[2], 'ro')\n",
    "    plt.show()"
   ]
  },
  {
   "cell_type": "code",
   "execution_count": 72,
   "metadata": {},
   "outputs": [],
   "source": [
    "def get_top_and_bottom_coordinates(im, obj):\n",
    "    \"\"\"\n",
    "    For a specific object, prompts user to record the top coordinate and the bottom coordinate in the image.\n",
    "    Inputs:\n",
    "        im: np.ndarray of shape (height, width, 3)\n",
    "        obj: string, object name\n",
    "    Returns:\n",
    "        coord: np.ndarray of shape (3, 2)\n",
    "            where coord[:, 0] is the homogeneous coordinate of the top of the object and coord[:, 1] is the homogeneous\n",
    "            coordinate of the bottom\n",
    "    \"\"\"\n",
    "    plt.figure()\n",
    "    plt.imshow(im)\n",
    "\n",
    "    print('Click on the top coordinate of %s' % obj)\n",
    "    clicked = plt.ginput(1, timeout=0, show_clicks=True)\n",
    "    x1, y1 = clicked[0]\n",
    "    # Uncomment this line to enable a vertical line to help align the two coordinates\n",
    "    # plt.plot([x1, x1], [0, im.shape[0]], 'b')\n",
    "    print('Click on the bottom coordinate of %s' % obj)\n",
    "    clicked = plt.ginput(1, timeout=0, show_clicks=True)\n",
    "    x2, y2 = clicked[0]\n",
    "\n",
    "    plt.plot([x1, x2], [y1, y2], 'b')\n",
    "\n",
    "    return np.array([[x1, x2], [y1, y2], [1, 1]])"
   ]
  },
  {
   "cell_type": "markdown",
   "metadata": {},
   "source": [
    "# Your implementation"
   ]
  },
  {
   "cell_type": "code",
   "execution_count": null,
   "metadata": {},
   "outputs": [],
   "source": []
  },
  {
   "cell_type": "code",
   "execution_count": null,
   "metadata": {},
   "outputs": [],
   "source": [
    "def get_horizon_line():\n",
    "    \"\"\"\n",
    "    Calculates the ground horizon line.\n",
    "    \"\"\"\n",
    "    # <YOUR IMPLEMENTATION>\n",
    "    pass"
   ]
  },
  {
   "cell_type": "code",
   "execution_count": null,
   "metadata": {},
   "outputs": [],
   "source": [
    "def plot_horizon_line():\n",
    "    \"\"\"\n",
    "    Plots the horizon line.\n",
    "    \"\"\"\n",
    "    # <YOUR IMPLEMENTATION>\n",
    "    pass"
   ]
  },
  {
   "cell_type": "code",
   "execution_count": null,
   "metadata": {},
   "outputs": [],
   "source": [
    "def get_camera_parameters():\n",
    "    \"\"\"\n",
    "    Computes the camera parameters. Hint: The SymPy package is suitable for this.\n",
    "    \"\"\"\n",
    "    # <YOUR IMPLEMENTATION>\n",
    "    pass"
   ]
  },
  {
   "cell_type": "code",
   "execution_count": null,
   "metadata": {},
   "outputs": [],
   "source": [
    "def get_rotation_matrix():\n",
    "    \"\"\"\n",
    "    Computes the rotation matrix using the camera parameters.\n",
    "    \"\"\"\n",
    "    # <YOUR IMPLEMENTATION>\n",
    "    return R"
   ]
  },
  {
   "cell_type": "code",
   "execution_count": null,
   "metadata": {},
   "outputs": [],
   "source": [
    "def estimate_height():\n",
    "    \"\"\"\n",
    "    Estimates height for a specific object using the recorded coordinates. You might need to plot additional images here for\n",
    "    your report.\n",
    "    \"\"\"\n",
    "    # <YOUR IMPLEMENTATION>\n",
    "    pass"
   ]
  },
  {
   "cell_type": "markdown",
   "metadata": {},
   "source": [
    "# Main function"
   ]
  },
  {
   "cell_type": "code",
   "execution_count": null,
   "metadata": {},
   "outputs": [],
   "source": [
    "im = np.asarray(Image.open('CSL.jpeg'))\n",
    "\n",
    "# Part 1\n",
    "# Get vanishing points for each of the directions\n",
    "num_vpts = 3\n",
    "for i in range(num_vpts):\n",
    "    print('Getting vanishing point %d' % i)\n",
    "    # Get at least three lines from user input\n",
    "    n, lines, centers, lengths, angles = get_input_lines(im)"
   ]
  },
  {
   "cell_type": "markdown",
   "metadata": {},
   "source": [
    "## Manual Data Insertion\n",
    "### The tool did not work no matter what I tried. I tried jupyter notebook in and out of anaconda, in Windows and in Linux, using two different mice, and with vscode. As none of these methods worked, I decided to instead print out all my data in the get_input_lines() function, and then re-enter it below, so that I could complete the lab."
   ]
  },
  {
   "cell_type": "code",
   "execution_count": 53,
   "metadata": {},
   "outputs": [],
   "source": [
    "lines_3 = [\n",
    "    [[    38.10522262,    499.76465051, -97452.96284285],\n",
    "     [    14.65585485,    433.81330367, -88221.19009168],\n",
    "     [    -5.86234194,    441.14123109, -94851.86687787],\n",
    "     [  -133.36827917,    315.10087935, -98135.95385311],\n",
    "     [   -63.02017587,    265.27097285, -72357.46100873],\n",
    "     [   -61.55459038,    296.04826804, -75712.98038974],\n",
    "     [   -52.76107747,    312.16970838, -75940.77144161],\n",
    "     [  -203.71638246,    253.54628897, -94059.71942816],\n",
    "     [   -82.07278718,    159.7488179 , -52271.95680971],\n",
    "     [   -43.96756456,    196.38845504, -51553.81470098]],\n",
    "    [[    -27.84612422,     131.90269368,    6855.03008229],\n",
    "     [    -17.58702582,     108.45332592,   -1972.89821938],\n",
    "     [     -8.79351291,     109.9189114 ,  -14037.58644256],\n",
    "     [     -1.46558549,     109.9189114 ,  -23553.04240931],\n",
    "     [     46.89873553,     124.57476626,  -91392.3776603 ],\n",
    "     [     71.81368878,     211.04430989, -149349.05159911],\n",
    "     [     23.44936777,     121.64359528,  -59725.81436907],\n",
    "     [     54.22666296,     145.09296305, -112320.839288  ],\n",
    "     [     93.79747106,     152.42089048, -160248.46706709],\n",
    "     [     -4.39675646,      71.81368878,   -8402.96205266],\n",
    "     [     -5.86234194,      79.14161621,   -8003.63175948],\n",
    "     [     -4.39675646,    -106.98774043,   30476.69642556]],\n",
    "    [[  -159.7488179 ,     -4.39675646, 111605.39325263],\n",
    "     [   -63.02017587,     -1.46558549,  45102.74425739],\n",
    "     [  -177.33584373,     -5.86234194, 147574.60859283],\n",
    "     [  -131.90269368,     -7.32792743, 117975.11046922],\n",
    "     [   -95.26305655,     -4.39675646,  88449.90348814],\n",
    "     [   -45.43315005,     -4.39675646,  45365.97515681],\n",
    "     [  -106.98774043,      1.46558549,  57016.4712021 ],\n",
    "     [  -127.50593723,      2.93117097,  11721.30325917],\n",
    "     [   -74.74485975,      1.46558549,  17021.46933895],\n",
    "     [   -95.26305655,      4.39675646,  26000.8590287 ],\n",
    "     [   -92.33188558,     -7.32792743,  95734.90922507],\n",
    "     [  -117.24683883,     -2.93117097,  93594.84533247],\n",
    "     [  -117.24683883,     -2.93117097,  89642.63423309],\n",
    "     [  -108.45332592,      0.        ,  79157.07163106],\n",
    "     [  -108.45332592,      0.        ,  75978.11922504],\n",
    "     [  -101.12539849,      0.        ,  68028.51211233],\n",
    "     [  -120.1780098 ,      0.        ,  62880.1011868 ],\n",
    "     [  -133.36827917,      1.46558549,  62717.38748937],\n",
    "     [  -170.0079163 ,     11.72468388,   5177.16769827]]\n",
    "]\n",
    "centers_3 = [\n",
    "    [[581.11531055, 150.68979867,   1.        ],\n",
    "     [561.3299065 , 184.39826483,   1.        ],\n",
    "     [563.52828473, 222.50348745,   1.        ],\n",
    "     [504.90486532, 525.14689018,   1.        ],\n",
    "     [698.36214938, 438.67734654,   1.        ],\n",
    "     [798.75475513, 421.82311346,   1.        ],\n",
    "     [674.91278162, 357.3373521 ,   1.        ],\n",
    "     [248.42740538, 570.58004022,   1.        ],\n",
    "     [458.00612978, 562.51932005,   1.        ],\n",
    "     [816.34178095, 445.27248123,   1.        ]],\n",
    "    [[894.01781168, 136.76673656,   1.        ],\n",
    "     [898.41456813, 163.88006804,   1.        ],\n",
    "     [891.81943345, 199.05411969,   1.        ],\n",
    "     [891.81943345, 226.16745116,   1.        ],\n",
    "     [812.67781724, 427.6854554 ,   1.        ],\n",
    "     [183.20885128, 645.32489998,   1.        ],\n",
    "     [ 62.29804874, 478.98094739,   1.        ],\n",
    "     [497.57693789, 588.16706605,   1.        ],\n",
    "     [832.46322129, 539.06995229,   1.        ],\n",
    "     [131.18056655, 125.04205268,   1.        ],\n",
    "     [134.84453026, 111.11899056,   1.        ],\n",
    "     [893.28501893, 248.15123345,   1.        ]],\n",
    "    [[ 682.24070904,  595.49499347,    1.        ],\n",
    "     [ 707.15566229,  366.86365776,    1.        ],\n",
    "     [ 825.13529387,  212.9771818 ,    1.        ],\n",
    "     [ 883.02592054,  204.91646163,    1.        ],\n",
    "     [ 919.66555767,  190.99339952,    1.        ],\n",
    "     [ 975.35780611,  239.35772053,    1.        ],\n",
    "     [ 535.68216051,  201.25249791,    1.        ],\n",
    "     [  95.27372216,  145.56024947,    1.        ],\n",
    "     [ 230.84037955,  158.75051884,    1.        ],\n",
    "     [ 293.86055542,  453.33320139,    1.        ],\n",
    "     [1003.20393034,  424.02149169,    1.        ],\n",
    "     [ 792.89241319,  215.17556002,    1.        ],\n",
    "     [ 759.18394702,  215.17556002,    1.        ],\n",
    "     [ 729.87223732,  215.17556002,    1.        ],\n",
    "     [ 700.56052761,  213.70997454,    1.        ],\n",
    "     [ 672.71440339,  211.51159631,    1.        ],\n",
    "     [ 523.22468388,  207.8476326 ,    1.        ],\n",
    "     [ 472.66198464,  218.83952374,    1.        ],\n",
    "     [  41.0470592 ,  153.62096964,    1.        ]]\n",
    "]\n",
    "lengths_3 = [\n",
    "    [501.21523709, 434.06079818, 441.18018181, 342.16320968, 272.65405114,\n",
    "     302.37980192, 316.5969964 , 325.24772887, 179.59851675, 201.25002362],\n",
    "    [134.80996712, 109.87004769, 110.27009093, 109.92868154, 133.11034438,\n",
    "     222.92803017, 123.88315916, 154.89512227, 178.96953213,  71.94815747,\n",
    "      79.35844296, 107.07804663],\n",
    "    [159.80931227,  63.03721526, 177.43271548, 132.1060904 ,  95.36446618,\n",
    "      45.64540054, 106.99777822, 127.5396244 ,  74.75922686,  95.36446618,\n",
    "      92.62221988, 117.28347274, 117.28347274, 108.45332592, 108.45332592,\n",
    "     101.12539849, 120.1780098 , 133.37633159, 170.41173615]\n",
    "]\n",
    "angles_3 = [\n",
    "    [6.20708621, 6.24941437, 0.01328825, 0.40039238, 0.23324517, 0.20499998, \n",
    "     0.16743178, 0.67685213, 0.47459608, 0.22024872],\n",
    "    [0.20805614, 0.16076274, 0.07982999, 0.01333254, 5.92312598, 5.95519783,\n",
    "     6.09275019, 5.92552206, 5.73153032, 0.06114816, 0.07393904, 3.10051987],\n",
    "    [1.59831232, 1.59404795, 1.60384214, 1.62629483, 1.61691744, 1.6672701 ,\n",
    "     1.55709855, 1.54781187, 1.551191  , 1.52467521, 1.6499954 , 1.59579112,\n",
    "     1.59579112, 1.57079633, 1.57079633, 1.57079633, 1.57079633, 1.55980776,\n",
    "     1.50193984]\n",
    "]\n",
    "n_3 = [len(row) for row in lines_3]"
   ]
  },
  {
   "cell_type": "code",
   "execution_count": 79,
   "metadata": {},
   "outputs": [],
   "source": [
    "SIGMA = 1.0\n",
    "\n",
    "def angular_distance(theta_1, theta_2):\n",
    "    \"\"\"\n",
    "    Solves for smallest angle between two angles in radians\n",
    "    \"\"\"\n",
    "    big = max(theta_1, theta_2)\n",
    "    small = min(theta_1, theta_2)\n",
    "    if big - small < math.pi:\n",
    "        return big - small\n",
    "    return (small - big) % math.pi\n",
    "\n",
    "def dist_point_line(x1, y1, a, b, c): \n",
    "    \"\"\"\n",
    "    Solves for orthogonal distance between point and line\n",
    "    \"\"\"\n",
    "    return abs((a * x1 + b * y1 + c)) / (math.sqrt(a * a + b * b))\n",
    "\n",
    "def get_vanishing_point(n, lines, centers, lengths, angles):\n",
    "    \"\"\"\n",
    "    Solves for the vanishing point using the user-input lines.\n",
    "    Solves by picking candidate with lowest sum of residuals \n",
    "        (distances to other lines)\n",
    "    \"\"\"\n",
    "    candidates = []\n",
    "    for i in range(n):\n",
    "        for j in range(i,n):\n",
    "            if(i != j):\n",
    "                candidate = np.cross(lines[i], lines[j])\n",
    "                candidates.append(candidate)\n",
    "    best_score = float(\"inf\")\n",
    "    #best_score = 0\n",
    "    best_candidate = []\n",
    "    for candidate in candidates: # iterate over candidate points\n",
    "#         score = 0\n",
    "#         for i in range(n): # iterate over all lines\n",
    "#             centered_pt = centers[i] - candidate \n",
    "#             alpha = np.arctan2(centered_pt[1],centered_pt[0])%(2*math.pi)\n",
    "#             theta = angles[i]%(2*math.pi)\n",
    "#             exp_term = -angular_distance(alpha,theta)/(2*(SIGMA**2))\n",
    "#             sub_score = lengths[i] * np.exp(exp_term)\n",
    "#             #sub_score = np.exp(exp_term)\n",
    "#             score += sub_score\n",
    "        score = 0\n",
    "        for i in range(n): # iterate over all lines\n",
    "            norm_candidate = (candidate[0] / candidate[2], candidate[1] / candidate[2])\n",
    "            score += dist_point_line(norm_candidate[0], norm_candidate[1], lines[i][0], lines[i][1], lines[i][2])\n",
    "        if(score < best_score):\n",
    "            best_score = score\n",
    "            best_candidate = candidate\n",
    "    print(best_candidate)\n",
    "    print(best_score)\n",
    "    print(\"~~~~~~~~~~~~~\")\n",
    "    return best_candidate"
   ]
  },
  {
   "cell_type": "code",
   "execution_count": 82,
   "metadata": {
    "scrolled": true
   },
   "outputs": [
    {
     "name": "stdout",
     "output_type": "stream",
     "text": [
      "[-7906841.76917088  7478320.99920168    35269.18818053]\n",
      "38.78558279361045\n",
      "~~~~~~~~~~~~~\n",
      "[-8.71186630e+06 -1.50238632e+06 -6.48033744e+03]\n",
      "139.1839396232534\n",
      "~~~~~~~~~~~~~\n"
     ]
    },
    {
     "name": "stderr",
     "output_type": "stream",
     "text": [
      "C:\\Users\\oh_bo\\AppData\\Local\\Temp\\ipykernel_5232\\2593710913.py:46: RuntimeWarning: divide by zero encountered in double_scalars\n",
      "  norm_candidate = (candidate[0] / candidate[2], candidate[1] / candidate[2])\n",
      "C:\\Users\\oh_bo\\AppData\\Local\\Temp\\ipykernel_5232\\2593710913.py:17: RuntimeWarning: invalid value encountered in double_scalars\n",
      "  return abs((a * x1 + b * y1 + c)) / (math.sqrt(a * a + b * b))\n",
      "C:\\Users\\oh_bo\\AppData\\Local\\Temp\\ipykernel_5232\\2593710913.py:46: RuntimeWarning: invalid value encountered in double_scalars\n",
      "  norm_candidate = (candidate[0] / candidate[2], candidate[1] / candidate[2])\n"
     ]
    },
    {
     "name": "stdout",
     "output_type": "stream",
     "text": [
      "[-2.36412264e+05 -2.65804657e+06 -4.16700519e+02]\n",
      "1688.2968040658338\n",
      "~~~~~~~~~~~~~\n"
     ]
    },
    {
     "name": "stderr",
     "output_type": "stream",
     "text": [
      "C:\\Users\\oh_bo\\AppData\\Local\\Temp\\ipykernel_5232\\3710894296.py:24: RuntimeWarning: divide by zero encountered in true_divide\n",
      "  pt1 = pt1 / pt1[2]\n",
      "C:\\Users\\oh_bo\\AppData\\Local\\Temp\\ipykernel_5232\\3710894296.py:24: RuntimeWarning: invalid value encountered in true_divide\n",
      "  pt1 = pt1 / pt1[2]\n",
      "C:\\Users\\oh_bo\\AppData\\Local\\Temp\\ipykernel_5232\\3710894296.py:25: RuntimeWarning: divide by zero encountered in true_divide\n",
      "  pt2 = pt2 / pt2[2]\n",
      "C:\\Users\\oh_bo\\AppData\\Local\\Temp\\ipykernel_5232\\3710894296.py:25: RuntimeWarning: invalid value encountered in true_divide\n",
      "  pt2 = pt2 / pt2[2]\n"
     ]
    }
   ],
   "source": [
    "im = np.asarray(Image.open('CSL.jpeg'))\n",
    "num_vpts = 3\n",
    "vpts = np.zeros((num_vpts, 3))\n",
    "\n",
    "for i in range(num_vpts):\n",
    "    n = n_3[i]\n",
    "    lines = np.array(lines_3[i])\n",
    "    centers = np.array(centers_3[i])\n",
    "    lengths = np.array(lengths_3[i])\n",
    "    angles = np.array(angles_3[i])\n",
    "   \n",
    "    # <YOUR IMPLEMENTATION> Solve for vanishing point\n",
    "    vp = get_vanishing_point(n, lines, centers, lengths, angles)\n",
    "    vpts[i] = vp\n",
    "    # Plot the lines and the vanishing point\n",
    "    plot_lines_and_vp(im, lines, vpts[i])"
   ]
  },
  {
   "cell_type": "code",
   "execution_count": 81,
   "metadata": {},
   "outputs": [
    {
     "ename": "NameError",
     "evalue": "name 'get_horizon_line' is not defined",
     "output_type": "error",
     "traceback": [
      "\u001b[1;31m---------------------------------------------------------------------------\u001b[0m",
      "\u001b[1;31mNameError\u001b[0m                                 Traceback (most recent call last)",
      "\u001b[1;32m~\\AppData\\Local\\Temp\\ipykernel_5232\\2540691310.py\u001b[0m in \u001b[0;36m<module>\u001b[1;34m\u001b[0m\n\u001b[0;32m      1\u001b[0m \u001b[1;31m# <YOUR IMPLEMENTATION> Get the ground horizon line\u001b[0m\u001b[1;33m\u001b[0m\u001b[1;33m\u001b[0m\u001b[0m\n\u001b[1;32m----> 2\u001b[1;33m \u001b[0mhorizon_line\u001b[0m \u001b[1;33m=\u001b[0m \u001b[0mget_horizon_line\u001b[0m\u001b[1;33m(\u001b[0m\u001b[1;33m)\u001b[0m\u001b[1;33m\u001b[0m\u001b[1;33m\u001b[0m\u001b[0m\n\u001b[0m\u001b[0;32m      3\u001b[0m \u001b[1;31m# <YOUR IMPLEMENTATION> Plot the ground horizon line\u001b[0m\u001b[1;33m\u001b[0m\u001b[1;33m\u001b[0m\u001b[0m\n\u001b[0;32m      4\u001b[0m \u001b[0mplot_horizon_line\u001b[0m\u001b[1;33m(\u001b[0m\u001b[1;33m)\u001b[0m\u001b[1;33m\u001b[0m\u001b[1;33m\u001b[0m\u001b[0m\n\u001b[0;32m      5\u001b[0m \u001b[1;33m\u001b[0m\u001b[0m\n",
      "\u001b[1;31mNameError\u001b[0m: name 'get_horizon_line' is not defined"
     ]
    }
   ],
   "source": [
    "# <YOUR IMPLEMENTATION> Get the ground horizon line\n",
    "horizon_line = get_horizon_line()\n",
    "# <YOUR IMPLEMENTATION> Plot the ground horizon line\n",
    "plot_horizon_line()\n",
    "\n",
    "# Part 2\n",
    "# <YOUR IMPLEMENTATION> Solve for the camera parameters (f, u, v)\n",
    "f, u, v = get_camera_parameters()\n",
    "\n",
    "# Part 3\n",
    "# <YOUR IMPLEMENTATION> Solve for the rotation matrix\n",
    "R = get_rotation_matrix()\n",
    "\n",
    "# Part 4\n",
    "# Record image coordinates for each object and store in map\n",
    "objects = ('person', 'CSL building', 'the spike statue', 'the lamp posts')\n",
    "coords = dict()\n",
    "for obj in objects:\n",
    "    coords[obj] = get_top_and_bottom_coordinates(im, obj)\n",
    "\n",
    "# <YOUR IMPLEMENTATION> Estimate heights\n",
    "for obj in objects[1:]:\n",
    "    print('Estimating height of %s' % obj)\n",
    "    height = estimate_height()\n"
   ]
  },
  {
   "cell_type": "code",
   "execution_count": null,
   "metadata": {},
   "outputs": [],
   "source": []
  }
 ],
 "metadata": {
  "kernelspec": {
   "display_name": "Python 3 (ipykernel)",
   "language": "python",
   "name": "python3"
  },
  "language_info": {
   "codemirror_mode": {
    "name": "ipython",
    "version": 3
   },
   "file_extension": ".py",
   "mimetype": "text/x-python",
   "name": "python",
   "nbconvert_exporter": "python",
   "pygments_lexer": "ipython3",
   "version": "3.9.13"
  },
  "vscode": {
   "interpreter": {
    "hash": "26de051ba29f2982a8de78e945f0abaf191376122a1563185a90213a26c5da77"
   }
  }
 },
 "nbformat": 4,
 "nbformat_minor": 2
}
